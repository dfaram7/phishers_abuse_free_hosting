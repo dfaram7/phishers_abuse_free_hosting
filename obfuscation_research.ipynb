{
 "cells": [
  {
   "cell_type": "markdown",
   "metadata": {},
   "source": [
    "# Phishers abusing free javascript hosting\n",
    "\n",
    "Last year I [analysed](https://dfworks.xyz/blog/credential_stealer/) a phishing email that rendered a semi-convincing, html credential stealer locally rather than directing the victim to a site on the internet. Whilst this wasn't a new tactic, in order to avoid being flagged as malware, obfuscated requests to https://www.yourjavascript.com were made to retrieve additional data such as logo images and screenshots.\n",
    "\n",
    "yourjavascript.com is a free hosting site that relies on donations to continue functioning so probably can't be held accountable for what users host on the site nor have the resource to audit obfuscated code that has been uploaded. That being said, I was curious as to what other ways this free hosting site was being abused by malicious actors.\n",
    "\n",
    "This jupyter notebook contains the code required to replicate the following steps (please clone/branch as you wish and amend the steps for your own research):\n",
    "\n",
    "- Collate all the URLs for uploaded code on yourjavascript.com\n",
    "\n",
    "- Triage the collected URLs for signs of obfuscation/malicious activity\n",
    "\n",
    "- Render any potentially malicious html as an image\n",
    "\n",
    "- Check malicious html for further malicious URLs\n",
    "\n",
    "- Check for yourjavascript usernames"
   ]
  },
  {
   "cell_type": "markdown",
   "metadata": {},
   "source": [
    "## Requirements\n",
    "\n",
    "You can uncomment the below cell to install the required python python modules or run the jupyter notebook in a separate environment first"
   ]
  },
  {
   "cell_type": "code",
   "execution_count": null,
   "metadata": {},
   "outputs": [],
   "source": [
    "#!pip install -r requirements.txt"
   ]
  },
  {
   "cell_type": "markdown",
   "metadata": {},
   "source": [
    "## Modules\n",
    "\n",
    "Below is a description of some of the more peculiar modules used in this project. For modules that aren't mentioned but you are unfamiliar with, please google the documentation.\n",
    "\n",
    "- **chromedriver_autoinstaller** automatically downloads the correct chromedriver for your browser and handles all the paths required to use selenium\n",
    "\n",
    "- **Grabzit** is an API where you can post html and retrieve a rendered image. This can be done using other python modules but this was the quickest and easiest way. To follow these steps you will need to [sign up](https://grabz.it/) for a free acount to get an api key.\n",
    "\n",
    "- **nest_asyncio** patches asyncio to allow nested use of asyncio.run and loop.run_until_complete. By design asyncio does not allow its event loop to be nested. When in a jupyter notebook environment where the event loop is already running it’s impossible to run tasks and wait for the result. Trying to do so will give the error “RuntimeError: This event loop is already running”."
   ]
  },
  {
   "cell_type": "code",
   "execution_count": 2,
   "metadata": {},
   "outputs": [],
   "source": [
    "import chromedriver_autoinstaller\n",
    "from selenium import webdriver\n",
    "from time import sleep\n",
    "import base64\n",
    "import random\n",
    "import asyncio\n",
    "import time \n",
    "import aiohttp\n",
    "from aiohttp.client import ClientSession\n",
    "import re\n",
    "from urllib.parse import unquote\n",
    "from GrabzIt import GrabzItClient\n",
    "import nest_asyncio\n",
    "from collections import Counter\n",
    "nest_asyncio.apply()\n",
    "\n",
    "opt = webdriver.ChromeOptions()\n",
    "opt.add_argument(\"--start-maximized\")\n",
    "\n",
    "chromedriver_autoinstaller.install()\n",
    "driver = webdriver.Chrome(options=opt)\n",
    "driver.set_page_load_timeout(5)"
   ]
  },
  {
   "cell_type": "markdown",
   "metadata": {},
   "source": [
    "## Collate all the URLs for uploaded code on yourjavascript.com\n",
    "\n",
    "Thankfully collecting all the urls for the code snippets was relatively easy and was indexed at the [uploaded](http://yourjavascript.com/uploaded/) endpoint. You can either run the next cell to get an up to date list of URLs or uncomment the cells below to read from a text file (accurate as of 18/01/2022) "
   ]
  },
  {
   "cell_type": "code",
   "execution_count": 3,
   "metadata": {},
   "outputs": [],
   "source": [
    "url_list = []\n",
    "for x in range(1,536):\n",
    "    driver.get('http://yourjavascript.com/uploaded/?p=' + str(x))\n",
    "    elems = driver.find_elements_by_xpath(\"//a[@href]\")\n",
    "    for elem in elems:\n",
    "        if 'file.php' in str(elem.get_attribute(\"href\")):\n",
    "            url_list.append(elem.get_attribute(\"href\"))\n",
    "    sleep(0.5)"
   ]
  },
  {
   "cell_type": "code",
   "execution_count": 4,
   "metadata": {},
   "outputs": [],
   "source": [
    "len(url_list)"
   ]
  },
  {
   "cell_type": "code",
   "execution_count": 5,
   "metadata": {},
   "outputs": [],
   "source": [
    "'''\n",
    "with open('url_list.txt', 'w') as f:\n",
    "    for item in url_list:\n",
    "        f.write(\"%s\\n\" % item)\n",
    "'''\n",
    "\n"
   ]
  },
  {
   "cell_type": "code",
   "execution_count": 3,
   "metadata": {},
   "outputs": [],
   "source": [
    "'''\n",
    "url_list = open('url_list.txt','r').read().splitlines()\n",
    "'''\n",
    "\n"
   ]
  },
  {
   "cell_type": "markdown",
   "metadata": {},
   "source": [
    "## Triage the collected URLs for signs of obfuscation/malicious activity\n",
    "\n",
    "As there are >50000 snippets to audit we need to quickly detect which urls contain maliciously obfuscated code. The phishing email I analysed previously was comparable to a jigsaw puzzle: some segments of the HMTL file were local and some hosted elsewhere. The individual segments may appear harmless in isolation enabling them to slip past conventional security solutions. Those individual segments were either URL or base64 encoded so this is what I decided to search for using 'atob(un' as a pattern (*atob(unescape())* can deobfuscate encoded html strings).\n",
    "\n",
    "I used a fairly simple substring pattern but equally the following logic could be applied to find different examples of malicious obfuscation:\n",
    "\n",
    "- **Other Strings** - 'eval()', 'exec()' or substrings over a certain length could also help identify malicious snippets but are prone to false positives\n",
    "- **Machine Learning** - Either training your own [obfucsaction classifier](https://www.kaggle.com/fanbyprinciple/javascript-obfuscation-detection) or using an [existing tool](https://github.com/Aurore54F/JaSt) would be a more refined way of finding malicious snippets\n",
    "- **Whitespace analysis** - Syntactically, obfuscation often ends up creating long strings with no space or lots of space to break up strings. Analysing how much whitespace there is in a snippet would probably be a promising strategy.\n"
   ]
  },
  {
   "cell_type": "code",
   "execution_count": null,
   "metadata": {},
   "outputs": [],
   "source": [
    "triaged = []\n",
    "\n",
    "async def download_link(url:str,session:ClientSession):\n",
    "    async with session.get(url) as response:\n",
    "        result = await response.text()\n",
    "        if 'atob(un' in result: # change this logic for different obfuscation detection methods\n",
    "            triaged.append(url)\n",
    "            print(url)\n",
    "        #print(f'Read {len(result)} from {url}')\n",
    "\n",
    "async def download_all(urls:list):\n",
    "    my_conn = aiohttp.TCPConnector(limit=10)\n",
    "    async with aiohttp.ClientSession(connector=my_conn) as session:\n",
    "        tasks = []\n",
    "        for url in urls:\n",
    "            task = asyncio.ensure_future(download_link(url=url,session=session))\n",
    "            tasks.append(task)\n",
    "        await asyncio.gather(*tasks,return_exceptions=True) # the await must be nest inside of the session\n",
    "\n",
    "\n",
    "start = time.time()\n",
    "asyncio.run(download_all(url_list))\n",
    "end = time.time()\n",
    "print(f'download {len(url_list)} links in {end - start} seconds')"
   ]
  },
  {
   "cell_type": "markdown",
   "metadata": {},
   "source": [
    "## Render any potentially malicious html as an image\n",
    "\n",
    "As mentioned above the Grabzit API can render html as an image if you sign up for an account and copy in your key and secret below.\n",
    "\n",
    "For each of the \"triaged\" URLs identified in the previous step, this cell does the following:\n",
    "- Gets the \"javascript\" snippet from the page\n",
    "- Determines if the encoding is base64 or URL (%) encoding\n",
    "- Decodes the obfuscated string\n",
    "- If the decoded sting is html then it is passed to the Grabzit API\n",
    "- An image is saved"
   ]
  },
  {
   "cell_type": "code",
   "execution_count": 4,
   "metadata": {},
   "outputs": [],
   "source": [
    "grabzIt = GrabzItClient.GrabzItClient(\"key\", \"secret\")\n",
    "\n",
    "counter = 0\n",
    "for x in triaged:\n",
    "    driver.get(x)\n",
    "    parent_elem = driver.find_element_by_xpath(\"//div[@class='js']\")\n",
    "    text = parent_elem.text\n",
    "    \n",
    "    if '%' in text:\n",
    "        try:\n",
    "            urilist = re.findall(r'\"([^\"]*)\"', text)\n",
    "            for u in urilist:\n",
    "                html = unquote(u)\n",
    "                grabzIt.HTMLToImage(html) \n",
    "                grabzIt.SaveTo(\"result\" + str(counter) + \".jpg\") #saves in local folder\n",
    "                counter += 1\n",
    "        except:\n",
    "            pass\n",
    "    \n",
    "    else:\n",
    "        try:    \n",
    "            b64list = re.findall(r'\"([^\"]*)\"', text)\n",
    "            for b in b64list:\n",
    "                html = base64.b64decode(b)\n",
    "                grabzIt.HTMLToImage(html) \n",
    "                grabzIt.SaveTo(\"result\" + str(counter) + \".jpg\") #saves in local folder\n",
    "                counter += 1\n",
    "        except:\n",
    "            pass"
   ]
  },
  {
   "cell_type": "markdown",
   "metadata": {},
   "source": [
    "You can conduct the steps above yourself but I have inlcuded some of the images to demonstrate that a good selection of the snippets were malicious credential stealers.\n",
    "\n",
    "![credential stealers](stealers.png)"
   ]
  },
  {
   "cell_type": "markdown",
   "metadata": {},
   "source": [
    "## Check malicious html for further malicious URLs\n",
    "\n",
    "The below cell retrieves URLs contained within the malicious html snippets and stores them in the mal_urls list.\n",
    "\n",
    "I conducted some further manual analysis on the list and found that they were broadly categorised as follows:\n",
    "\n",
    "- Legitimate links to Microsoft/O365 links so victims could be redirected after credentials had been captured\n",
    "- Legitimate links to Microsoft/O365 logos and images so rendered html was more believable\n",
    "- Links to presumably compromised wordpress sites which are acting as a server to capture submitted credentials\n",
    "- Dead links to presumably now inactive malicious servers\n",
    "- Links to blurry images used to make local credential stealers more believable\n",
    "\n",
    "![example](blurry2.png)\n"
   ]
  },
  {
   "cell_type": "code",
   "execution_count": 6,
   "metadata": {},
   "outputs": [],
   "source": [
    "def find(string):\n",
    "    \n",
    "  \n",
    "    # findall() has been used \n",
    "    # with valid conditions for urls in string\n",
    "    regex = r\"(?i)\\b((?:https?://|www\\d{0,3}[.]|[a-z0-9.\\-]+[.][a-z]{2,4}/)(?:[^\\s()<>]+|\\(([^\\s()<>]+|(\\([^\\s()<>]+\\)))*\\))+(?:\\(([^\\s()<>]+|(\\([^\\s()<>]+\\)))*\\)|[^\\s`!()\\[\\]{};:'\\\".,<>?«»“”‘’]))\"\n",
    "    url = re.findall(regex, str(string))      \n",
    "    return [x[0] for x in url]\n",
    "\n",
    "\n",
    "mal_urls = []\n",
    "\n",
    "for x in triaged:\n",
    "    driver.get(x)\n",
    "    parent_elem = driver.find_element_by_xpath(\"//div[@class='js']\")\n",
    "    text = parent_elem.text\n",
    "\n",
    "    if '%' in text:\n",
    "        try:\n",
    "            urilist = re.findall(r'\"([^\"]*)\"', text)\n",
    "            for u in urilist:\n",
    "                html = unquote(u)\n",
    "                templist = find(html)\n",
    "                for t in templist:\n",
    "                    print(t)\n",
    "                    mal_urls.append(t)\n",
    "        except:\n",
    "            pass\n",
    "       \n",
    "    \n",
    "    else:\n",
    "        try:\n",
    "            b64list = re.findall(r'\"([^\"]*)\"', text)\n",
    "            for b in b64list:\n",
    "                html = base64.b64decode(b)\n",
    "                templist = find(html)\n",
    "                for t in templist:\n",
    "                    print(t)\n",
    "                    mal_urls.append(t)\n",
    "        except:\n",
    "            pass\n"
   ]
  },
  {
   "cell_type": "markdown",
   "metadata": {},
   "source": [
    "## Check for yourjavascript usernames\n",
    "\n",
    "Each yourjavascript snippet contained a username. You can see an example [here](http://yourjavascript.com/uploaded/file.php?i=1602098388&f=343452.js.html) where the user \"2motdepas\" has been the creator. Unfortunately, there was no repetition between the usernames from the snippets that I collated but you may have more luck (if they aren't randomly generated). "
   ]
  },
  {
   "cell_type": "code",
   "execution_count": null,
   "metadata": {},
   "outputs": [],
   "source": [
    "usernames = []\n",
    "for x in triaged:\n",
    "    driver.get(x)\n",
    "    parent_elem = driver.find_element_by_xpath('//*[@id=\"wrap\"]/div[2]/div/div/p[1]')\n",
    "    text = parent_elem.text\n",
    "    usernames.append(text.split(' ')[-1])\n",
    "    print(text.split(' ')[-1])"
   ]
  },
  {
   "cell_type": "code",
   "execution_count": 25,
   "metadata": {},
   "outputs": [],
   "source": [
    "def Most_Common(lst):\n",
    "    data = Counter(lst)\n",
    "    return data.most_common()\n",
    "\n",
    "Most_Common(usernames)"
   ]
  },
  {
   "cell_type": "markdown",
   "metadata": {},
   "source": [
    "## Mitigating actions\n",
    "\n",
    "You may be conducting these steps already but here are some mitigating actions you can take to avoid having these adversarial tactics used against your organisation.\n",
    "\n",
    "\n",
    "- Turn on Safe Attachments policies to check attachments to inbound email. \n",
    "- Enable Safe Links protection for users with zero-hour auto purge to remove emails when a URL gets weaponized post-delivery.\n",
    "- Avoid password reuse between accounts.\n",
    "- Use multi-factor authentication (MFA) especially for privileged accounts.\n",
    "- Educate end users on consent phishing tactics as part of security or phishing awareness training.\n",
    "- Consider blocking yourjavascript.com altogether if it isn't used by your organisation\n",
    "- The following domains were identified in the mal_urls list which can be used as IOCs or added to blacklists\n",
    "    - hxxp://www[.]tanikawashuntaro[.]com\n",
    "    - hxxps://tannamilk[.]or[.]jp\n",
    "    - hxxp://tokai-lm[.]jp\n",
    "    - hxxp://coollab[.]jp\n",
    "    - hxxp://201911040231048719416[.]onamaeweb[.]jp\n",
    "    - hxxp://tokai-lm[.]jp\n",
    "    - hxxps://liveautho20[.]000webhostapp[.]com\n",
    "    - hxxp://www[.]cyuouzemi[.]co[.]jp\n"
   ]
  },
  {
   "cell_type": "code",
   "execution_count": null,
   "metadata": {},
   "outputs": [],
   "source": []
  },
  {
   "cell_type": "code",
   "execution_count": null,
   "metadata": {},
   "outputs": [],
   "source": [
    "\n",
    "\n"
   ]
  },
  {
   "cell_type": "code",
   "execution_count": null,
   "metadata": {},
   "outputs": [],
   "source": []
  },
  {
   "cell_type": "code",
   "execution_count": null,
   "metadata": {},
   "outputs": [],
   "source": []
  },
  {
   "cell_type": "code",
   "execution_count": null,
   "metadata": {},
   "outputs": [],
   "source": []
  },
  {
   "cell_type": "code",
   "execution_count": null,
   "metadata": {},
   "outputs": [],
   "source": []
  },
  {
   "cell_type": "code",
   "execution_count": null,
   "metadata": {},
   "outputs": [],
   "source": []
  }
 ],
 "metadata": {
  "kernelspec": {
   "display_name": "Python 3",
   "language": "python",
   "name": "python3"
  },
  "language_info": {
   "codemirror_mode": {
    "name": "ipython",
    "version": 3
   },
   "file_extension": ".py",
   "mimetype": "text/x-python",
   "name": "python",
   "nbconvert_exporter": "python",
   "pygments_lexer": "ipython3",
   "version": "3.8.5"
  }
 },
 "nbformat": 4,
 "nbformat_minor": 4
}
